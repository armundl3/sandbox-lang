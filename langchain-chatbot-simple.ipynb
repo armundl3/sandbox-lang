{
 "cells": [
  {
   "cell_type": "code",
   "execution_count": 1,
   "id": "3eb3e101-251f-4736-a845-246c233fea6b",
   "metadata": {},
   "outputs": [],
   "source": [
    "import os\n",
    "from langchain.chat_models import init_chat_model\n",
    "from langchain_core.messages import HumanMessage, SystemMessage\n",
    "from langchain_core.prompts import ChatPromptTemplate"
   ]
  },
  {
   "cell_type": "code",
   "execution_count": 2,
   "id": "3848325f-8763-4687-b379-edc5846284a8",
   "metadata": {},
   "outputs": [
    {
     "name": "stdout",
     "output_type": "stream",
     "text": [
      "Starting OLLAMA model: mistral:7b\n"
     ]
    }
   ],
   "source": [
    "MODEL = \"OLLAMA\"\n",
    "\n",
    "if MODEL==\"OLLAMA\":\n",
    "    # model_name = \"tinyllama:latest\"\n",
    "    # model_name = \"qwen3:8b\"\n",
    "    model_name = \"mistral:7b\"\n",
    "    model = init_chat_model(model_name,\n",
    "                            model_provider=\"ollama\",\n",
    "                            streaming=True,\n",
    "                            keep_alive=-1)\n",
    "    print(f\"Starting {MODEL} model: {model_name}\")\n",
    "elif MODEL==\"CLAUDE\":\n",
    "    model_name = \"claude-3-haiku-20240307\"\n",
    "    model = init_chat_model(model_name,\n",
    "                            model_provider=\"anthropic\",\n",
    "                            api_key=os.environ[\"ANTHROPIC_API_KEY\"]\n",
    "                            )\n",
    "    print(f\"Starting {MODEL} model: {model_name}\")\n",
    "else:\n",
    "    raise Exception(\"Not implemented\")"
   ]
  },
  {
   "cell_type": "code",
   "execution_count": 3,
   "id": "5a3a1c23-8308-415a-a459-7f1223e4e88e",
   "metadata": {},
   "outputs": [
    {
     "data": {
      "text/plain": [
       "AIMessage(content=' Salve! (Hello!)', additional_kwargs={}, response_metadata={'model': 'mistral:7b', 'created_at': '2025-09-09T01:56:21.688997Z', 'done': True, 'done_reason': 'stop', 'total_duration': 267089333, 'load_duration': 19555583, 'prompt_eval_count': 16, 'prompt_eval_duration': 120364500, 'eval_count': 7, 'eval_duration': 125279583, 'model_name': 'mistral:7b'}, id='run--8cbadcb6-9876-4f3f-8d04-d9d674e54734-0', usage_metadata={'input_tokens': 16, 'output_tokens': 7, 'total_tokens': 23})"
      ]
     },
     "execution_count": 3,
     "metadata": {},
     "output_type": "execute_result"
    }
   ],
   "source": [
    "messages = [\n",
    "    SystemMessage(content=\"Translate the following from English into Latin\"),\n",
    "    HumanMessage(content=\"hi!\"),\n",
    "]\n",
    "\n",
    "model.invoke(messages)"
   ]
  },
  {
   "cell_type": "code",
   "execution_count": 4,
   "id": "e1851921-5b3b-4890-98c8-19eb7af0cc2c",
   "metadata": {},
   "outputs": [
    {
     "name": "stdout",
     "output_type": "stream",
     "text": [
      " Sal|ve|!| (|Hello|!)||"
     ]
    }
   ],
   "source": [
    "for token in model.stream(messages):\n",
    "    print(token.content, end=\"|\")\n",
    "    "
   ]
  },
  {
   "cell_type": "code",
   "execution_count": null,
   "id": "13852671-b2b3-4834-84b3-c739025c4580",
   "metadata": {},
   "outputs": [],
   "source": []
  },
  {
   "cell_type": "code",
   "execution_count": 5,
   "id": "885faa33-8082-43b1-b85a-c86a9df47ed3",
   "metadata": {},
   "outputs": [],
   "source": [
    "system_template = \"Translate the following from English into {language}\"\n",
    "\n",
    "prompt_template = ChatPromptTemplate.from_messages(\n",
    "    [(\"system\", system_template), (\"user\", \"{text}\")]\n",
    ")"
   ]
  },
  {
   "cell_type": "code",
   "execution_count": 6,
   "id": "4b0e53f8-8667-4520-be70-975fcc15203a",
   "metadata": {},
   "outputs": [],
   "source": [
    "prompt = prompt_template.invoke(\n",
    "    {\"language\": \"Russian\", \"text\": \"hi!\"}\n",
    ")"
   ]
  },
  {
   "cell_type": "code",
   "execution_count": 7,
   "id": "899c72ef-ecc3-454d-82d8-7877fed746e7",
   "metadata": {},
   "outputs": [
    {
     "data": {
      "text/plain": [
       "ChatPromptValue(messages=[SystemMessage(content='Translate the following from English into Russian', additional_kwargs={}, response_metadata={}), HumanMessage(content='hi!', additional_kwargs={}, response_metadata={})])"
      ]
     },
     "execution_count": 7,
     "metadata": {},
     "output_type": "execute_result"
    }
   ],
   "source": [
    "prompt"
   ]
  },
  {
   "cell_type": "code",
   "execution_count": 8,
   "id": "8b4425c6-0e2a-4a14-ad13-233bf362fe56",
   "metadata": {},
   "outputs": [
    {
     "data": {
      "text/plain": [
       "[SystemMessage(content='Translate the following from English into Russian', additional_kwargs={}, response_metadata={}),\n",
       " HumanMessage(content='hi!', additional_kwargs={}, response_metadata={})]"
      ]
     },
     "execution_count": 8,
     "metadata": {},
     "output_type": "execute_result"
    }
   ],
   "source": [
    "prompt.to_messages()"
   ]
  },
  {
   "cell_type": "code",
   "execution_count": 9,
   "id": "d2b383fc-6e4b-4ef0-9363-3743e050f6d8",
   "metadata": {},
   "outputs": [
    {
     "name": "stdout",
     "output_type": "stream",
     "text": [
      " Здравствуйте! (Hello!)\n"
     ]
    }
   ],
   "source": [
    "response = model.invoke(prompt)\n",
    "print(response.content)"
   ]
  },
  {
   "cell_type": "code",
   "execution_count": null,
   "id": "b6713389-27ee-4bf1-9801-f75bccf66233",
   "metadata": {},
   "outputs": [],
   "source": []
  },
  {
   "cell_type": "code",
   "execution_count": null,
   "id": "7dfe9cf9",
   "metadata": {},
   "outputs": [],
   "source": []
  }
 ],
 "metadata": {
  "kernelspec": {
   "display_name": "venv_sandbox_lang",
   "language": "python",
   "name": "python3"
  },
  "language_info": {
   "codemirror_mode": {
    "name": "ipython",
    "version": 3
   },
   "file_extension": ".py",
   "mimetype": "text/x-python",
   "name": "python",
   "nbconvert_exporter": "python",
   "pygments_lexer": "ipython3",
   "version": "3.11.0"
  }
 },
 "nbformat": 4,
 "nbformat_minor": 5
}
