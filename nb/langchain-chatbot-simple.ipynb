{
 "cells": [
  {
   "cell_type": "code",
   "execution_count": 1,
   "id": "3eb3e101-251f-4736-a845-246c233fea6b",
   "metadata": {},
   "outputs": [],
   "source": [
    "import os\n",
    "from langchain.chat_models import init_chat_model\n",
    "from langchain_core.messages import HumanMessage, SystemMessage\n",
    "from langchain_core.prompts import ChatPromptTemplate"
   ]
  },
  {
   "cell_type": "code",
   "execution_count": null,
   "id": "3848325f-8763-4687-b379-edc5846284a8",
   "metadata": {},
   "outputs": [
    {
     "name": "stdout",
     "output_type": "stream",
     "text": [
      "Starting OLLAMA model: qwen3:8b\n"
     ]
    }
   ],
   "source": [
    "MODEL = \"OLLAMA\"\n",
    "\n",
    "if MODEL==\"OLLAMA\":\n",
    "    # model_name = \"tinyllama:latest\"\n",
    "    # model_name = \"qwen3:8b\"\n",
    "    model_name = \"gemma3n:e4b\"\n",
    "    # model_name = \"mistral:7b\"\n",
    "    model = init_chat_model(model_name,\n",
    "                            model_provider=\"ollama\",\n",
    "                            streaming=True,\n",
    "                            keep_alive=-1)\n",
    "    print(f\"Starting {MODEL} model: {model_name}\")\n",
    "elif MODEL==\"CLAUDE\":\n",
    "    model_name = \"claude-3-haiku-20240307\"\n",
    "    model = init_chat_model(model_name,\n",
    "                            model_provider=\"anthropic\",\n",
    "                            api_key=os.environ[\"ANTHROPIC_API_KEY\"]\n",
    "                            )\n",
    "    print(f\"Starting {MODEL} model: {model_name}\")\n",
    "else:\n",
    "    raise Exception(\"Not implemented\")"
   ]
  },
  {
   "cell_type": "code",
   "execution_count": 13,
   "id": "5a3a1c23-8308-415a-a459-7f1223e4e88e",
   "metadata": {},
   "outputs": [
    {
     "data": {
      "text/plain": [
       "AIMessage(content='<think>\\nOkay, the user wants to translate \"hi!\" from English to Latin. Let me think. \"Hi\" is an informal greeting, like \"hello\" but more casual. In Latin, the standard greeting is \"salve\" or \"salvete\" for plural. But \"hi\" is more like a casual \"hey\" or \"hello\". Maybe \"salve\" is the closest, but I should check if there\\'s a more modern or colloquial term. Wait, in some contexts, people might use \"hie\" as an exclamation, but I\\'m not sure. Alternatively, \"heil\" is a German word, but that\\'s not Latin. Maybe \"salve\" is the safest bet. Let me confirm. Yes, \"salve\" is the standard informal greeting in Latin. So the translation would be \"Salve!\" with an exclamation mark. I should make sure to use the correct case and form. Since it\\'s an exclamation, the word is in the nominative case. So the answer is \"Salve!\".\\n</think>\\n\\nSalve!', additional_kwargs={}, response_metadata={'model': 'qwen3:8b', 'created_at': '2025-09-09T02:13:16.224355Z', 'done': True, 'done_reason': 'stop', 'total_duration': 6361937583, 'load_duration': 60607292, 'prompt_eval_count': 22, 'prompt_eval_duration': 136521000, 'eval_count': 225, 'eval_duration': 6163034541, 'model_name': 'qwen3:8b'}, id='run--4a238563-13ae-46cd-a9c3-a367ffa9c626-0', usage_metadata={'input_tokens': 22, 'output_tokens': 225, 'total_tokens': 247})"
      ]
     },
     "execution_count": 13,
     "metadata": {},
     "output_type": "execute_result"
    }
   ],
   "source": [
    "messages = [\n",
    "    SystemMessage(content=\"Translate the following from English into Latin\"),\n",
    "    HumanMessage(content=\"hi!\"),\n",
    "]\n",
    "\n",
    "model.invoke(messages)"
   ]
  },
  {
   "cell_type": "code",
   "execution_count": 14,
   "id": "e1851921-5b3b-4890-98c8-19eb7af0cc2c",
   "metadata": {},
   "outputs": [
    {
     "name": "stdout",
     "output_type": "stream",
     "text": [
      "<think>|\n",
      "|Okay|,| the| user| wants| to| translate| \"|hi|!\"| from| English| to| Latin|.| Let| me| think| about| how| to| approach| this|.\n",
      "\n",
      "|First|,| \"|hi|\"| in| English| is| an| informal| greeting|,| like| \"|hello|\"| or| \"|hey|\".| In| Latin|,| there| are| several| ways| to| greet| someone|.| The| most| common| ones| are| \"|sal|ve|\"| or| \"|vale|\".| \"|Sal|ve|\"| is| more| like| \"|hello|\"| or| \"|hi|\",| while| \"|vale|\"| is| more| like| \"|good|bye|\"| or| \"|fare|well|\".| But| maybe| there| are| other| options| too|.\n",
      "\n",
      "|Wait|,| \"|sal|ve|\"| is| definitely| the| standard| greeting|.| But| sometimes| people| might| use| \"|h|ail|\"| as| in| \"|h|ail|,| com|rade|!\"| which| is| \"|vale|,| com|rade|!\"| but| that|'s| more| of| a| military| or| formal| greeting|.| The| user| might| be| looking| for| the| most| common| translation|.| \n",
      "\n",
      "|Alternatively|,| could| there| be| a| more| collo|qu|ial| term|?| I| don|'t| think| Latin| has| a| direct| equivalent| to| \"|hi|\"| as| an| informal| greeting|.| \"|Sal|ve|\"| is| the| closest|.| Maybe| \"|sal|ve|\"| is| the| best| answer| here|.| \n",
      "\n",
      "|I| should| also| check| if| there| are| any| other| possible| translations|.| For| example|,| \"|bon|um| die|\"| means| \"|good| day|\",| but| that|'s| more| of| a| formal| greeting|.| \"|Sal|ve|\"| is| more| appropriate| for| a| casual| \"|hi|\".| \n",
      "\n",
      "|So| the| translation| of| \"|hi|!\"| into| Latin| would| be| \"|sal|ve|!\"| with| an| ex|clamation| mark|.| That| seems| right|.| Let| me| confirm| by| checking| some| references|.| Yes|,| \"|sal|ve|\"| is| the| standard| greeting|.| So| the| answer| should| be| \"|sal|ve|!\"|.\n",
      "|</think>|\n",
      "\n",
      "|sal|ve|!||"
     ]
    }
   ],
   "source": [
    "for token in model.stream(messages):\n",
    "    print(token.content, end=\"|\")\n",
    "    "
   ]
  },
  {
   "cell_type": "code",
   "execution_count": 20,
   "id": "13852671-b2b3-4834-84b3-c739025c4580",
   "metadata": {},
   "outputs": [
    {
     "ename": "AttributeError",
     "evalue": "'list' object has no attribute 'content'",
     "output_type": "error",
     "traceback": [
      "\u001b[31m---------------------------------------------------------------------------\u001b[39m",
      "\u001b[31mAttributeError\u001b[39m                            Traceback (most recent call last)",
      "\u001b[36mCell\u001b[39m\u001b[36m \u001b[39m\u001b[32mIn[20]\u001b[39m\u001b[32m, line 1\u001b[39m\n\u001b[32m----> \u001b[39m\u001b[32m1\u001b[39m \u001b[38;5;28mprint\u001b[39m(\u001b[43mmessages\u001b[49m\u001b[43m.\u001b[49m\u001b[43mcontent\u001b[49m)\n",
      "\u001b[31mAttributeError\u001b[39m: 'list' object has no attribute 'content'"
     ]
    }
   ],
   "source": [
    "print(messages.content)"
   ]
  },
  {
   "cell_type": "code",
   "execution_count": 15,
   "id": "885faa33-8082-43b1-b85a-c86a9df47ed3",
   "metadata": {},
   "outputs": [],
   "source": [
    "system_template = \"Translate the following from English into {language}. Think about what that {language} word means. Then translate the word into another random language and hint what that new language is..\"\n",
    "\n",
    "prompt_template = ChatPromptTemplate.from_messages(\n",
    "    [(\"system\", system_template), (\"user\", \"{text}\")]\n",
    ")"
   ]
  },
  {
   "cell_type": "code",
   "execution_count": 16,
   "id": "4b0e53f8-8667-4520-be70-975fcc15203a",
   "metadata": {},
   "outputs": [],
   "source": [
    "prompt = prompt_template.invoke(\n",
    "    {\"language\": \"Russian\", \"text\": \"hi!\"}\n",
    ")"
   ]
  },
  {
   "cell_type": "code",
   "execution_count": 17,
   "id": "899c72ef-ecc3-454d-82d8-7877fed746e7",
   "metadata": {},
   "outputs": [
    {
     "data": {
      "text/plain": [
       "ChatPromptValue(messages=[SystemMessage(content='Translate the following from English into Russian. Think about what that Russian word means. Then translate the word into another random language and hint what that new language is..', additional_kwargs={}, response_metadata={}), HumanMessage(content='hi!', additional_kwargs={}, response_metadata={})])"
      ]
     },
     "execution_count": 17,
     "metadata": {},
     "output_type": "execute_result"
    }
   ],
   "source": [
    "prompt"
   ]
  },
  {
   "cell_type": "code",
   "execution_count": 18,
   "id": "8b4425c6-0e2a-4a14-ad13-233bf362fe56",
   "metadata": {},
   "outputs": [
    {
     "data": {
      "text/plain": [
       "[SystemMessage(content='Translate the following from English into Russian. Think about what that Russian word means. Then translate the word into another random language and hint what that new language is..', additional_kwargs={}, response_metadata={}),\n",
       " HumanMessage(content='hi!', additional_kwargs={}, response_metadata={})]"
      ]
     },
     "execution_count": 18,
     "metadata": {},
     "output_type": "execute_result"
    }
   ],
   "source": [
    "prompt.to_messages()"
   ]
  },
  {
   "cell_type": "code",
   "execution_count": 19,
   "id": "d2b383fc-6e4b-4ef0-9363-3743e050f6d8",
   "metadata": {},
   "outputs": [
    {
     "name": "stdout",
     "output_type": "stream",
     "text": [
      "<think>\n",
      "Okay, the user wants me to translate \"hi!\" from English to Russian. Let me start by recalling the Russian word for \"hi\". I think it's \"Привет!\" which is commonly used as a greeting. Now, I need to make sure that's correct. Let me double-check. Yes, \"Привет\" is indeed the standard greeting in Russian, similar to \"Hello\" in English. \n",
      "\n",
      "Next, the user wants me to translate that Russian word into another random language. Let me pick a language. Maybe Spanish? Wait, the user said \"another random language\", so perhaps I should choose a less common one. Let me think... How about Japanese? That might be a good choice. \n",
      "\n",
      "So, \"Привет\" in Russian is \"Hello\". Translating \"Hello\" into Japanese would be \"こんにちは\" (Konnichiwa). But wait, the user might want the translation of the Russian word \"Привет\" into another language, not the English word. Let me clarify. The original instruction is to first translate \"hi!\" into Russian, then take that Russian word and translate it into another language. So, the Russian word is \"Привет\", and I need to translate that into another language. \n",
      "\n",
      "Wait, maybe the user wants the Russian translation of \"hi!\", then take that Russian word and translate it into another language. So \"Привет\" is the Russian for \"hi\". Then, translating \"Привет\" into another language. Let me choose a language. Let's say French. \"Привет\" in French would be \"Salut!\" which is a common greeting. But maybe the user wants the translation of the Russian word into another language, not the English equivalent. \n",
      "\n",
      "Alternatively, perhaps the user wants the Russian translation of \"hi!\" and then take that Russian word and translate it into another language, but not necessarily the English equivalent. For example, \"Привет\" in Russian is \"Hello\", so translating \"Привет\" into another language would be the equivalent of \"Hello\" in that language. \n",
      "\n",
      "Wait, the user's instruction is: \"Translate the following from English into Russian. Think about what that Russian word means. Then translate the word into another random language and hint what that new language is.\" \n",
      "\n",
      "So the steps are: 1. Translate \"hi!\" to Russian. 2. Think about what the Russian word means (which is \"Hello\"). 3. Translate that Russian word into another random language and hint what that new language is. \n",
      "\n",
      "Wait, no. The user might mean: translate \"hi!\" into Russian, then take the Russian word (which is \"Привет\") and translate it into another language, and indicate which language it is. \n",
      "\n",
      "So, first translation: \"hi!\" → \"Привет!\" in Russian. Then, take \"Привет\" and translate it into another language. Let me pick a language, say, Spanish. \"Привет\" in Spanish is \"¡Hola!\". But maybe the user wants the translation of the Russian word into another language, not the English equivalent. For example, if the Russian word is \"Привет\", translating it into Japanese would be \"こんにちは\" (Konnichiwa). \n",
      "\n",
      "But the user wants me to translate the Russian word into another language and hint what that new language is. So, after translating \"hi!\" to Russian, then take the Russian word \"Привет\" and translate it into another language, then mention that language. \n",
      "\n",
      "Let me confirm. The user's instruction is: Translate \"hi!\" to Russian. Then, take that Russian word (which is \"Привет\") and translate it into another random language, and hint what that new language is. \n",
      "\n",
      "So, for example, translating \"Привет\" into French would be \"Salut!\" and then hint that the new language is French. Or into Japanese: \"こんにちは\" (Konnichiwa) and hint Japanese. \n",
      "\n",
      "But the user might want the translation of the Russian word into another language, not the English equivalent. So, the process is: \n",
      "\n",
      "Original: hi! → Russian: Привет! → Then translate \"Привет\" into another language. Let's pick Spanish. \"Привет\" in Spanish is \"¡Hola!\". So the answer would be \"Привет!\" (Russian), then \"¡Hola!\" (Spanish), and hint that the new language is Spanish. \n",
      "\n",
      "But the user might want the translation of the Russian word into another language, not the English word. So, the Russian word \"Привет\" is \"Hello\" in English, but translating it into another language would be the equivalent of \"Hello\" in that language. \n",
      "\n",
      "Alternatively, maybe the user wants to take the Russian word \"Привет\" and translate it into another language, but using the same word in that language. For example, \"Привет\" in Russian is \"Hello\", so in another language, say, Spanish, \"Hello\" is \"¡Hola!\", so the translation would be \"¡Hola!\" and the hint would be Spanish. \n",
      "\n",
      "So, putting it all together: \n",
      "\n",
      "Original translation: hi! → Russian: Привет!\n",
      "\n",
      "Then, translating \"Привет\" into another language, say, Japanese: こんにちは (Konnichiwa), and hint that the new language is Japanese. \n",
      "\n",
      "But the user might want the translation of the Russian word into another language, not the English equivalent. So, the process is:\n",
      "\n",
      "1. Translate \"hi!\" to Russian: \"Привет!\" (which means \"Hello\")\n",
      "2. Take the Russian word \"Привет\" and translate it into another language, say, French: \"Salut!\" (which means \"Hello\" in French)\n",
      "3. Hint that the new language is French. \n",
      "\n",
      "Therefore, the final answer would be: \n",
      "\n",
      "Russian: Привет! (which means \"Hello\")\n",
      "Then, translating \"Привет\" into French: \"Salut!\", and hint that the new language is French. \n",
      "\n",
      "Alternatively, maybe the user wants the translation of the Russian word into another language, but not the English equivalent. For example, if the Russian word is \"Привет\", translating it into another language would be the equivalent of \"Hello\" in that language. \n",
      "\n",
      "So, the user's example might be: \n",
      "\n",
      "Original: hi! → Russian: Привет! (meaning \"Hello\")\n",
      "Then, translating \"Прив,et\" into another language, say, Spanish: \"¡Hola!\", and hint that the new language is Spanish. \n",
      "\n",
      "But I need to make sure I'm following the user's instructions correctly. The user said: \"Translate the following from English into Russian. Think about what that Russian word means. Then translate the word into another random language and hint what that new language is.\"\n",
      "\n",
      "So, step by step:\n",
      "\n",
      "1. Translate \"hi!\" into Russian: \"Привет!\"\n",
      "2. Think about what that Russian word means: It means \"Hello\".\n",
      "3. Translate the Russian word (which is \"Привет\") into another random language, say, Spanish: \"¡Hola!\", and hint that the new language is Spanish. \n",
      "\n",
      "Therefore, the final answer would be:\n",
      "\n",
      "Russian: Привет! (meaning \"Hello\")\n",
      "Then, translating \"Привет\" into Spanish: \"¡Hola!\", and the hint is Spanish. \n",
      "\n",
      "But the user might want the translation of the Russian word into another language, not the English equivalent. So, the answer is:\n",
      "\n",
      "\"hi!\" → Russian: \"Привет!\" (which means \"Hello\")\n",
      "Then, translating \"Привет\" into another language, say, Japanese: \"こんにちは\" (Konnichiwa), and hint that the new language is Japanese. \n",
      "\n",
      "But the user might want the translation of the Russian word into another language, not the English equivalent. So, in this case, the Russian word \"Привет\" is \"Hello\", but translating it into another language would be the equivalent of \"Hello\" in that language. \n",
      "\n",
      "Therefore, the correct answer would be:\n",
      "\n",
      "Original: hi! → Russian: Привет! (meaning \"Hello\")\n",
      "Translate \"Привет\" into another language, say, French: \"Salut!\", and hint that the new language is French. \n",
      "\n",
      "Alternatively, maybe the user wants the translation of the Russian word \"Привет\" into another language, and the hint is the language name. \n",
      "\n",
      "So, the answer would be:\n",
      "\n",
      "\"hi!\" → Russian: Привет! (which means \"Hello\")\n",
      "Then, translating \"Привет\" into Spanish: \"¡Hola!\", and hint: Spanish. \n",
      "\n",
      "But I need to make sure that the translation is accurate. Let me verify. \n",
      "\n",
      "\"Привет\" in Russian is \"Hello\". Translating that into Spanish is \"¡Hola!\". So that's correct. \n",
      "\n",
      "Therefore, the final answer is:\n",
      "\n",
      "Russian: Привет! (meaning \"Hello\")\n",
      "Then, translating \"Привет\" into Spanish: \"¡Hola!\", and the hint is Spanish. \n",
      "\n",
      "Alternatively, the user might want the translation of the Russian word into another language, and then the hint is the language. \n",
      "\n",
      "So, the answer would be: \n",
      "\n",
      "\"hi!\" → Russian: Привет! (which means \"Hello\")\n",
      "Then, translating \"Привет\" into another language, say, Japanese: こんにちは (Konnichiwa), and hint: Japanese. \n",
      "\n",
      "But the user might not care about the exact language, just to pick a random one. \n",
      "\n",
      "In any case, the key steps are: translate to Russian, then translate that Russian word into another language and hint the language. \n",
      "\n",
      "So, the final answer would be:\n",
      "\n",
      "\"hi!\" → Russian: Привет! (meaning \"Hello\")\n",
      "Then, translating \"Привет\" into another language, say, French: \"Salut!\", and hint that the new language is French. \n",
      "\n",
      "But the user might prefer a different language. Let me choose Japanese. \n",
      "\n",
      "So, the answer is:\n",
      "\n",
      "\"hi!\" → Russian: Привет! (which means \"Hello\")\n",
      "Then, translating \"Привет\" into Japanese: こんにちは (Konnichiwa), and hint: Japanese. \n",
      "\n",
      "But the user might want the translation of the Russian word into another language, and the hint is the language. \n",
      "\n",
      "Therefore, the correct answer is:\n",
      "\n",
      "Original translation: hi! → Russian: Привет!\n",
      "Then, translating \"Привет\" into another language, say, Japanese: こんにちは (Konnichiwa), and hint: Japanese. \n",
      "\n",
      "But I need to make sure the translation is correct. \"Привет\" in Russian is \"Hello\", so in Japanese, it's \"こんにちは\" (Konnichiwa). \n",
      "\n",
      "Yes, that's correct. \n",
      "\n",
      "So, the final answer would be: \n",
      "\n",
      "\"hi!\" → Russian: Привет! (meaning \"Hello\")\n",
      "Then, translating \"Привет\" into Japanese: こんにちは (Konnichiwa), and the hint is Japanese. \n",
      "\n",
      "But the user might not want the translation of the Russian word into another language, but the translation of the Russian word into another language, and the hint is the language. \n",
      "\n",
      "Therefore, the answer is as above. \n",
      "\n",
      "But the user might want the translation of the Russian word into another language, and the hint is the language. \n",
      "\n",
      "So, the answer is:\n",
      "\n",
      "\"hi!\" → Russian: Привет! (meaning \"Hello\")\n",
      "Then, translating \"Привет\" into another language, say, Spanish: \"¡Hola!\", and hint: Spanish. \n",
      "\n",
      "But the user might prefer a different language. \n",
      "\n",
      "In conclusion, the answer is:\n",
      "\n",
      "\"hi!\" → Russian: Привет! (which means \"Hello\")\n",
      "Then, translating \"Привет\" into Japanese: こんにちは (Konnichiwa), and hint: Japanese. \n",
      "\n",
      "But I need to check if the user wants the translation of the Russian word into another language, not the English equivalent. \n",
      "\n",
      "Yes, that's correct. So the answer should be as above. \n",
      "\n",
      "But the user might want the answer in the format where the first part is the translation to Russian, then the translation into another language with the hint. \n",
      "\n",
      "So, the final answer is:\n",
      "\n",
      "Russian: Привет! (which means \"Hello\")\n",
      "Then, translating \"Привет\" into Japanese: こんにちは (Konnichiwa), hint: Japanese. \n",
      "\n",
      "But the user's instruction says to translate the word into another random language and hint what that new language is. So the answer should be structured as such. \n",
      "\n",
      "Therefore, the answer is:\n",
      "\n",
      "\"hi!\" → Russian: Привет! (meaning \"Hello\")\n",
      "Then, translating \"Привет\" into Japanese: こんにちは (Konnichiwa), and the hint is Japanese. \n",
      "\n",
      "But the user might want the answer in the format where the first translation is given, then the second translation with the hint. \n",
      "\n",
      "So, the final answer would be:\n",
      "\n",
      "\"hi!\" → Russian: Привет! (which means \"Hello\")\n",
      "Then, translating \"Привет\" into another language, say, Japanese: こんにちは (Konnichiwa), and the hint is Japanese. \n",
      "\n",
      "But the user might prefer the answer to be concise, so perhaps:\n",
      "\n",
      "\"hi!\" → Russian: Привет! (Hello)\n",
      "Then, translating \"Привет\" into Japanese: こんにちは (Konnichiwa), hint: Japanese. \n",
      "\n",
      "Yes, that's probably the way to go.\n",
      "</think>\n",
      "\n",
      "\"hi!\" → Russian: Привет! (Hello)  \n",
      "Then, translating \"Привет\" into Japanese: こんにちは (Konnichiwa), hint: Japanese.\n"
     ]
    }
   ],
   "source": [
    "response = model.invoke(prompt)\n",
    "print(response.content)"
   ]
  },
  {
   "cell_type": "code",
   "execution_count": null,
   "id": "b6713389-27ee-4bf1-9801-f75bccf66233",
   "metadata": {},
   "outputs": [],
   "source": []
  },
  {
   "cell_type": "code",
   "execution_count": null,
   "id": "7dfe9cf9",
   "metadata": {},
   "outputs": [],
   "source": []
  }
 ],
 "metadata": {
  "kernelspec": {
   "display_name": "venv_sandbox_lang",
   "language": "python",
   "name": "python3"
  },
  "language_info": {
   "codemirror_mode": {
    "name": "ipython",
    "version": 3
   },
   "file_extension": ".py",
   "mimetype": "text/x-python",
   "name": "python",
   "nbconvert_exporter": "python",
   "pygments_lexer": "ipython3",
   "version": "3.13.7"
  }
 },
 "nbformat": 4,
 "nbformat_minor": 5
}
